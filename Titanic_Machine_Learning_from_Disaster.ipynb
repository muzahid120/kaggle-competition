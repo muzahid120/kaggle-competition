{
  "metadata": {
    "kernelspec": {
      "language": "python",
      "display_name": "Python 3",
      "name": "python3"
    },
    "language_info": {
      "name": "python",
      "version": "3.10.13",
      "mimetype": "text/x-python",
      "codemirror_mode": {
        "name": "ipython",
        "version": 3
      },
      "pygments_lexer": "ipython3",
      "nbconvert_exporter": "python",
      "file_extension": ".py"
    },
    "kaggle": {
      "accelerator": "none",
      "dataSources": [
        {
          "sourceId": 3136,
          "databundleVersionId": 26502,
          "sourceType": "competition"
        }
      ],
      "dockerImageVersionId": 30673,
      "isInternetEnabled": false,
      "language": "python",
      "sourceType": "notebook",
      "isGpuEnabled": false
    },
    "colab": {
      "name": "Titanic - Machine Learning from Disaster",
      "provenance": [],
      "include_colab_link": true
    }
  },
  "nbformat_minor": 0,
  "nbformat": 4,
  "cells": [
    {
      "cell_type": "markdown",
      "metadata": {
        "id": "view-in-github",
        "colab_type": "text"
      },
      "source": [
        "<a href=\"https://colab.research.google.com/github/muzahid120/kaggle-competition/blob/Python-project/Titanic_Machine_Learning_from_Disaster.ipynb\" target=\"_parent\"><img src=\"https://colab.research.google.com/assets/colab-badge.svg\" alt=\"Open In Colab\"/></a>"
      ]
    },
    {
      "source": [
        "\n",
        "# IMPORTANT: RUN THIS CELL IN ORDER TO IMPORT YOUR KAGGLE DATA SOURCES\n",
        "# TO THE CORRECT LOCATION (/kaggle/input) IN YOUR NOTEBOOK,\n",
        "# THEN FEEL FREE TO DELETE THIS CELL.\n",
        "# NOTE: THIS NOTEBOOK ENVIRONMENT DIFFERS FROM KAGGLE'S PYTHON\n",
        "# ENVIRONMENT SO THERE MAY BE MISSING LIBRARIES USED BY YOUR\n",
        "# NOTEBOOK.\n",
        "\n",
        "import os\n",
        "import sys\n",
        "from tempfile import NamedTemporaryFile\n",
        "from urllib.request import urlopen\n",
        "from urllib.parse import unquote, urlparse\n",
        "from urllib.error import HTTPError\n",
        "from zipfile import ZipFile\n",
        "import tarfile\n",
        "import shutil\n",
        "\n",
        "CHUNK_SIZE = 40960\n",
        "DATA_SOURCE_MAPPING = 'titanic:https%3A%2F%2Fstorage.googleapis.com%2Fkaggle-competitions-data%2Fkaggle-v2%2F3136%2F26502%2Fbundle%2Farchive.zip%3FX-Goog-Algorithm%3DGOOG4-RSA-SHA256%26X-Goog-Credential%3Dgcp-kaggle-com%2540kaggle-161607.iam.gserviceaccount.com%252F20240321%252Fauto%252Fstorage%252Fgoog4_request%26X-Goog-Date%3D20240321T162642Z%26X-Goog-Expires%3D259200%26X-Goog-SignedHeaders%3Dhost%26X-Goog-Signature%3Dae1b9da96fdcb5be45623dbf21219b0eaad015c3dc3c689228fea85b30d6ddd7aa02136f026a054624b3bf3bc30463eb58afcfa93b3c7cd5d191f7b253987729ed57e8ee2b692100263502b45bef050d4dd928845c6b0d0e0a56f1a65d5039c6987a6e413b798ec7cca14232a10811957b61959f90b60ff27646e8eb99ca74a65e7f12338053fd756687260db2622551d45c076b0998c90fb69af369dd94c7e08a700dccdc8bae1683276babafbeebe973cab26c990ed949a7257a92ae1604d8c21dea6723590964125948939a563b5bd96360be228f9076e11d67bb6f88c84b03bd214813ba0f86b1cd377da976c8ac250ef5757cd805d388ef5b62431e6b59'\n",
        "\n",
        "KAGGLE_INPUT_PATH='/kaggle/input'\n",
        "KAGGLE_WORKING_PATH='/kaggle/working'\n",
        "KAGGLE_SYMLINK='kaggle'\n",
        "\n",
        "!umount /kaggle/input/ 2> /dev/null\n",
        "shutil.rmtree('/kaggle/input', ignore_errors=True)\n",
        "os.makedirs(KAGGLE_INPUT_PATH, 0o777, exist_ok=True)\n",
        "os.makedirs(KAGGLE_WORKING_PATH, 0o777, exist_ok=True)\n",
        "\n",
        "try:\n",
        "  os.symlink(KAGGLE_INPUT_PATH, os.path.join(\"..\", 'input'), target_is_directory=True)\n",
        "except FileExistsError:\n",
        "  pass\n",
        "try:\n",
        "  os.symlink(KAGGLE_WORKING_PATH, os.path.join(\"..\", 'working'), target_is_directory=True)\n",
        "except FileExistsError:\n",
        "  pass\n",
        "\n",
        "for data_source_mapping in DATA_SOURCE_MAPPING.split(','):\n",
        "    directory, download_url_encoded = data_source_mapping.split(':')\n",
        "    download_url = unquote(download_url_encoded)\n",
        "    filename = urlparse(download_url).path\n",
        "    destination_path = os.path.join(KAGGLE_INPUT_PATH, directory)\n",
        "    try:\n",
        "        with urlopen(download_url) as fileres, NamedTemporaryFile() as tfile:\n",
        "            total_length = fileres.headers['content-length']\n",
        "            print(f'Downloading {directory}, {total_length} bytes compressed')\n",
        "            dl = 0\n",
        "            data = fileres.read(CHUNK_SIZE)\n",
        "            while len(data) > 0:\n",
        "                dl += len(data)\n",
        "                tfile.write(data)\n",
        "                done = int(50 * dl / int(total_length))\n",
        "                sys.stdout.write(f\"\\r[{'=' * done}{' ' * (50-done)}] {dl} bytes downloaded\")\n",
        "                sys.stdout.flush()\n",
        "                data = fileres.read(CHUNK_SIZE)\n",
        "            if filename.endswith('.zip'):\n",
        "              with ZipFile(tfile) as zfile:\n",
        "                zfile.extractall(destination_path)\n",
        "            else:\n",
        "              with tarfile.open(tfile.name) as tarfile:\n",
        "                tarfile.extractall(destination_path)\n",
        "            print(f'\\nDownloaded and uncompressed: {directory}')\n",
        "    except HTTPError as e:\n",
        "        print(f'Failed to load (likely expired) {download_url} to path {destination_path}')\n",
        "        continue\n",
        "    except OSError as e:\n",
        "        print(f'Failed to load {download_url} to path {destination_path}')\n",
        "        continue\n",
        "\n",
        "print('Data source import complete.')\n"
      ],
      "metadata": {
        "id": "XnDqkZ9H1nxB"
      },
      "cell_type": "code",
      "outputs": [],
      "execution_count": null
    },
    {
      "cell_type": "code",
      "source": [
        "# This Python 3 environment comes with many helpful analytics libraries installed\n",
        "# It is defined by the kaggle/python Docker image: https://github.com/kaggle/docker-python\n",
        "# For example, here's several helpful packages to load\n",
        "\n",
        "import numpy as np # linear algebra\n",
        "import pandas as pd # data processing, CSV file I/O (e.g. pd.read_csv)\n",
        "\n",
        "# Input data files are available in the read-only \"../input/\" directory\n",
        "# For example, running this (by clicking run or pressing Shift+Enter) will list all files under the input directory\n",
        "\n",
        "import os\n",
        "for dirname, _, filenames in os.walk('/kaggle/input'):\n",
        "    for filename in filenames:\n",
        "        print(os.path.join(dirname, filename))\n",
        "\n",
        "# You can write up to 20GB to the current directory (/kaggle/working/) that gets preserved as output when you create a version using \"Save & Run All\"\n",
        "# You can also write temporary files to /kaggle/temp/, but they won't be saved outside of the current session"
      ],
      "metadata": {
        "_uuid": "8f2839f25d086af736a60e9eeb907d3b93b6e0e5",
        "_cell_guid": "b1076dfc-b9ad-4769-8c92-a6c4dae69d19",
        "execution": {
          "iopub.status.busy": "2024-03-21T15:15:39.133486Z",
          "iopub.execute_input": "2024-03-21T15:15:39.133888Z",
          "iopub.status.idle": "2024-03-21T15:15:39.150686Z",
          "shell.execute_reply.started": "2024-03-21T15:15:39.133858Z",
          "shell.execute_reply": "2024-03-21T15:15:39.149578Z"
        },
        "trusted": true,
        "id": "zBVDntL61nxJ",
        "outputId": "ab196e88-fea6-4fc4-a656-0d0e8db74241"
      },
      "execution_count": null,
      "outputs": [
        {
          "name": "stdout",
          "text": "/kaggle/input/titanic/train.csv\n/kaggle/input/titanic/test.csv\n/kaggle/input/titanic/gender_submission.csv\n",
          "output_type": "stream"
        }
      ]
    },
    {
      "cell_type": "code",
      "source": [
        "from sklearn.tree import DecisionTreeClassifier\n",
        "from sklearn.linear_model import LogisticRegression\n",
        "from sklearn.svm import SVC\n",
        "from sklearn.preprocessing import StandardScaler\n",
        "from sklearn.metrics import accuracy_score\n",
        "import matplotlib.pyplot as plt\n",
        "import seaborn as sns"
      ],
      "metadata": {
        "execution": {
          "iopub.status.busy": "2024-03-21T15:15:39.153233Z",
          "iopub.execute_input": "2024-03-21T15:15:39.155003Z",
          "iopub.status.idle": "2024-03-21T15:15:39.161931Z",
          "shell.execute_reply.started": "2024-03-21T15:15:39.154957Z",
          "shell.execute_reply": "2024-03-21T15:15:39.161086Z"
        },
        "trusted": true,
        "id": "NMHSp0at1nxK"
      },
      "execution_count": null,
      "outputs": []
    },
    {
      "cell_type": "code",
      "source": [
        "train_df=pd.read_csv('/kaggle/input/titanic/train.csv')\n",
        "test_df=pd.read_csv('/kaggle/input/titanic/test.csv')\n",
        "train_df.head()\n"
      ],
      "metadata": {
        "execution": {
          "iopub.status.busy": "2024-03-21T15:15:39.16362Z",
          "iopub.execute_input": "2024-03-21T15:15:39.164053Z",
          "iopub.status.idle": "2024-03-21T15:15:39.194871Z",
          "shell.execute_reply.started": "2024-03-21T15:15:39.164017Z",
          "shell.execute_reply": "2024-03-21T15:15:39.193718Z"
        },
        "trusted": true,
        "id": "vq1aaCxb1nxL",
        "outputId": "5c340afa-f203-463d-f0f4-433e0074d80e"
      },
      "execution_count": null,
      "outputs": [
        {
          "execution_count": 323,
          "output_type": "execute_result",
          "data": {
            "text/plain": "   PassengerId  Survived  Pclass  \\\n0            1         0       3   \n1            2         1       1   \n2            3         1       3   \n3            4         1       1   \n4            5         0       3   \n\n                                                Name     Sex   Age  SibSp  \\\n0                            Braund, Mr. Owen Harris    male  22.0      1   \n1  Cumings, Mrs. John Bradley (Florence Briggs Th...  female  38.0      1   \n2                             Heikkinen, Miss. Laina  female  26.0      0   \n3       Futrelle, Mrs. Jacques Heath (Lily May Peel)  female  35.0      1   \n4                           Allen, Mr. William Henry    male  35.0      0   \n\n   Parch            Ticket     Fare Cabin Embarked  \n0      0         A/5 21171   7.2500   NaN        S  \n1      0          PC 17599  71.2833   C85        C  \n2      0  STON/O2. 3101282   7.9250   NaN        S  \n3      0            113803  53.1000  C123        S  \n4      0            373450   8.0500   NaN        S  ",
            "text/html": "<div>\n<style scoped>\n    .dataframe tbody tr th:only-of-type {\n        vertical-align: middle;\n    }\n\n    .dataframe tbody tr th {\n        vertical-align: top;\n    }\n\n    .dataframe thead th {\n        text-align: right;\n    }\n</style>\n<table border=\"1\" class=\"dataframe\">\n  <thead>\n    <tr style=\"text-align: right;\">\n      <th></th>\n      <th>PassengerId</th>\n      <th>Survived</th>\n      <th>Pclass</th>\n      <th>Name</th>\n      <th>Sex</th>\n      <th>Age</th>\n      <th>SibSp</th>\n      <th>Parch</th>\n      <th>Ticket</th>\n      <th>Fare</th>\n      <th>Cabin</th>\n      <th>Embarked</th>\n    </tr>\n  </thead>\n  <tbody>\n    <tr>\n      <th>0</th>\n      <td>1</td>\n      <td>0</td>\n      <td>3</td>\n      <td>Braund, Mr. Owen Harris</td>\n      <td>male</td>\n      <td>22.0</td>\n      <td>1</td>\n      <td>0</td>\n      <td>A/5 21171</td>\n      <td>7.2500</td>\n      <td>NaN</td>\n      <td>S</td>\n    </tr>\n    <tr>\n      <th>1</th>\n      <td>2</td>\n      <td>1</td>\n      <td>1</td>\n      <td>Cumings, Mrs. John Bradley (Florence Briggs Th...</td>\n      <td>female</td>\n      <td>38.0</td>\n      <td>1</td>\n      <td>0</td>\n      <td>PC 17599</td>\n      <td>71.2833</td>\n      <td>C85</td>\n      <td>C</td>\n    </tr>\n    <tr>\n      <th>2</th>\n      <td>3</td>\n      <td>1</td>\n      <td>3</td>\n      <td>Heikkinen, Miss. Laina</td>\n      <td>female</td>\n      <td>26.0</td>\n      <td>0</td>\n      <td>0</td>\n      <td>STON/O2. 3101282</td>\n      <td>7.9250</td>\n      <td>NaN</td>\n      <td>S</td>\n    </tr>\n    <tr>\n      <th>3</th>\n      <td>4</td>\n      <td>1</td>\n      <td>1</td>\n      <td>Futrelle, Mrs. Jacques Heath (Lily May Peel)</td>\n      <td>female</td>\n      <td>35.0</td>\n      <td>1</td>\n      <td>0</td>\n      <td>113803</td>\n      <td>53.1000</td>\n      <td>C123</td>\n      <td>S</td>\n    </tr>\n    <tr>\n      <th>4</th>\n      <td>5</td>\n      <td>0</td>\n      <td>3</td>\n      <td>Allen, Mr. William Henry</td>\n      <td>male</td>\n      <td>35.0</td>\n      <td>0</td>\n      <td>0</td>\n      <td>373450</td>\n      <td>8.0500</td>\n      <td>NaN</td>\n      <td>S</td>\n    </tr>\n  </tbody>\n</table>\n</div>"
          },
          "metadata": {}
        }
      ]
    },
    {
      "cell_type": "code",
      "source": [
        "test_df.head(5)"
      ],
      "metadata": {
        "execution": {
          "iopub.status.busy": "2024-03-21T15:15:39.196318Z",
          "iopub.execute_input": "2024-03-21T15:15:39.196819Z",
          "iopub.status.idle": "2024-03-21T15:15:39.212644Z",
          "shell.execute_reply.started": "2024-03-21T15:15:39.196782Z",
          "shell.execute_reply": "2024-03-21T15:15:39.211405Z"
        },
        "trusted": true,
        "id": "9RE3kuEi1nxM",
        "outputId": "2a92935c-5f0f-4cd5-9bc7-8b774d0f2c8b"
      },
      "execution_count": null,
      "outputs": [
        {
          "execution_count": 324,
          "output_type": "execute_result",
          "data": {
            "text/plain": "   PassengerId  Pclass                                          Name     Sex  \\\n0          892       3                              Kelly, Mr. James    male   \n1          893       3              Wilkes, Mrs. James (Ellen Needs)  female   \n2          894       2                     Myles, Mr. Thomas Francis    male   \n3          895       3                              Wirz, Mr. Albert    male   \n4          896       3  Hirvonen, Mrs. Alexander (Helga E Lindqvist)  female   \n\n    Age  SibSp  Parch   Ticket     Fare Cabin Embarked  \n0  34.5      0      0   330911   7.8292   NaN        Q  \n1  47.0      1      0   363272   7.0000   NaN        S  \n2  62.0      0      0   240276   9.6875   NaN        Q  \n3  27.0      0      0   315154   8.6625   NaN        S  \n4  22.0      1      1  3101298  12.2875   NaN        S  ",
            "text/html": "<div>\n<style scoped>\n    .dataframe tbody tr th:only-of-type {\n        vertical-align: middle;\n    }\n\n    .dataframe tbody tr th {\n        vertical-align: top;\n    }\n\n    .dataframe thead th {\n        text-align: right;\n    }\n</style>\n<table border=\"1\" class=\"dataframe\">\n  <thead>\n    <tr style=\"text-align: right;\">\n      <th></th>\n      <th>PassengerId</th>\n      <th>Pclass</th>\n      <th>Name</th>\n      <th>Sex</th>\n      <th>Age</th>\n      <th>SibSp</th>\n      <th>Parch</th>\n      <th>Ticket</th>\n      <th>Fare</th>\n      <th>Cabin</th>\n      <th>Embarked</th>\n    </tr>\n  </thead>\n  <tbody>\n    <tr>\n      <th>0</th>\n      <td>892</td>\n      <td>3</td>\n      <td>Kelly, Mr. James</td>\n      <td>male</td>\n      <td>34.5</td>\n      <td>0</td>\n      <td>0</td>\n      <td>330911</td>\n      <td>7.8292</td>\n      <td>NaN</td>\n      <td>Q</td>\n    </tr>\n    <tr>\n      <th>1</th>\n      <td>893</td>\n      <td>3</td>\n      <td>Wilkes, Mrs. James (Ellen Needs)</td>\n      <td>female</td>\n      <td>47.0</td>\n      <td>1</td>\n      <td>0</td>\n      <td>363272</td>\n      <td>7.0000</td>\n      <td>NaN</td>\n      <td>S</td>\n    </tr>\n    <tr>\n      <th>2</th>\n      <td>894</td>\n      <td>2</td>\n      <td>Myles, Mr. Thomas Francis</td>\n      <td>male</td>\n      <td>62.0</td>\n      <td>0</td>\n      <td>0</td>\n      <td>240276</td>\n      <td>9.6875</td>\n      <td>NaN</td>\n      <td>Q</td>\n    </tr>\n    <tr>\n      <th>3</th>\n      <td>895</td>\n      <td>3</td>\n      <td>Wirz, Mr. Albert</td>\n      <td>male</td>\n      <td>27.0</td>\n      <td>0</td>\n      <td>0</td>\n      <td>315154</td>\n      <td>8.6625</td>\n      <td>NaN</td>\n      <td>S</td>\n    </tr>\n    <tr>\n      <th>4</th>\n      <td>896</td>\n      <td>3</td>\n      <td>Hirvonen, Mrs. Alexander (Helga E Lindqvist)</td>\n      <td>female</td>\n      <td>22.0</td>\n      <td>1</td>\n      <td>1</td>\n      <td>3101298</td>\n      <td>12.2875</td>\n      <td>NaN</td>\n      <td>S</td>\n    </tr>\n  </tbody>\n</table>\n</div>"
          },
          "metadata": {}
        }
      ]
    },
    {
      "cell_type": "markdown",
      "source": [
        "# remove less important columns"
      ],
      "metadata": {
        "id": "EY_ROxm51nxN"
      }
    },
    {
      "cell_type": "code",
      "source": [
        "train_df.drop(columns=['PassengerId','Name','Ticket','Cabin'],inplace=True)\n",
        "test_df.drop(columns=['PassengerId','Name','Ticket','Cabin'],inplace=True)\n"
      ],
      "metadata": {
        "execution": {
          "iopub.status.busy": "2024-03-21T15:15:39.215799Z",
          "iopub.execute_input": "2024-03-21T15:15:39.216588Z",
          "iopub.status.idle": "2024-03-21T15:15:39.224032Z",
          "shell.execute_reply.started": "2024-03-21T15:15:39.216556Z",
          "shell.execute_reply": "2024-03-21T15:15:39.222942Z"
        },
        "trusted": true,
        "id": "_RdBKsMA1nxP"
      },
      "execution_count": null,
      "outputs": []
    },
    {
      "cell_type": "code",
      "source": [
        "train_df.head()"
      ],
      "metadata": {
        "execution": {
          "iopub.status.busy": "2024-03-21T15:15:39.225494Z",
          "iopub.execute_input": "2024-03-21T15:15:39.225845Z",
          "iopub.status.idle": "2024-03-21T15:15:39.244859Z",
          "shell.execute_reply.started": "2024-03-21T15:15:39.225816Z",
          "shell.execute_reply": "2024-03-21T15:15:39.243763Z"
        },
        "trusted": true,
        "id": "LgQ3W9gW1nxQ",
        "outputId": "d0992ae3-0b79-48f1-ede0-a7ff33ea3c08"
      },
      "execution_count": null,
      "outputs": [
        {
          "execution_count": 326,
          "output_type": "execute_result",
          "data": {
            "text/plain": "   Survived  Pclass     Sex   Age  SibSp  Parch     Fare Embarked\n0         0       3    male  22.0      1      0   7.2500        S\n1         1       1  female  38.0      1      0  71.2833        C\n2         1       3  female  26.0      0      0   7.9250        S\n3         1       1  female  35.0      1      0  53.1000        S\n4         0       3    male  35.0      0      0   8.0500        S",
            "text/html": "<div>\n<style scoped>\n    .dataframe tbody tr th:only-of-type {\n        vertical-align: middle;\n    }\n\n    .dataframe tbody tr th {\n        vertical-align: top;\n    }\n\n    .dataframe thead th {\n        text-align: right;\n    }\n</style>\n<table border=\"1\" class=\"dataframe\">\n  <thead>\n    <tr style=\"text-align: right;\">\n      <th></th>\n      <th>Survived</th>\n      <th>Pclass</th>\n      <th>Sex</th>\n      <th>Age</th>\n      <th>SibSp</th>\n      <th>Parch</th>\n      <th>Fare</th>\n      <th>Embarked</th>\n    </tr>\n  </thead>\n  <tbody>\n    <tr>\n      <th>0</th>\n      <td>0</td>\n      <td>3</td>\n      <td>male</td>\n      <td>22.0</td>\n      <td>1</td>\n      <td>0</td>\n      <td>7.2500</td>\n      <td>S</td>\n    </tr>\n    <tr>\n      <th>1</th>\n      <td>1</td>\n      <td>1</td>\n      <td>female</td>\n      <td>38.0</td>\n      <td>1</td>\n      <td>0</td>\n      <td>71.2833</td>\n      <td>C</td>\n    </tr>\n    <tr>\n      <th>2</th>\n      <td>1</td>\n      <td>3</td>\n      <td>female</td>\n      <td>26.0</td>\n      <td>0</td>\n      <td>0</td>\n      <td>7.9250</td>\n      <td>S</td>\n    </tr>\n    <tr>\n      <th>3</th>\n      <td>1</td>\n      <td>1</td>\n      <td>female</td>\n      <td>35.0</td>\n      <td>1</td>\n      <td>0</td>\n      <td>53.1000</td>\n      <td>S</td>\n    </tr>\n    <tr>\n      <th>4</th>\n      <td>0</td>\n      <td>3</td>\n      <td>male</td>\n      <td>35.0</td>\n      <td>0</td>\n      <td>0</td>\n      <td>8.0500</td>\n      <td>S</td>\n    </tr>\n  </tbody>\n</table>\n</div>"
          },
          "metadata": {}
        }
      ]
    },
    {
      "cell_type": "code",
      "source": [
        "test_df.head()"
      ],
      "metadata": {
        "execution": {
          "iopub.status.busy": "2024-03-21T15:15:39.246223Z",
          "iopub.execute_input": "2024-03-21T15:15:39.247613Z",
          "iopub.status.idle": "2024-03-21T15:15:39.26363Z",
          "shell.execute_reply.started": "2024-03-21T15:15:39.247568Z",
          "shell.execute_reply": "2024-03-21T15:15:39.262441Z"
        },
        "trusted": true,
        "id": "nyaKAZyJ1nxQ",
        "outputId": "c521e473-73b1-4a57-b259-eeee0e917a0f"
      },
      "execution_count": null,
      "outputs": [
        {
          "execution_count": 327,
          "output_type": "execute_result",
          "data": {
            "text/plain": "   Pclass     Sex   Age  SibSp  Parch     Fare Embarked\n0       3    male  34.5      0      0   7.8292        Q\n1       3  female  47.0      1      0   7.0000        S\n2       2    male  62.0      0      0   9.6875        Q\n3       3    male  27.0      0      0   8.6625        S\n4       3  female  22.0      1      1  12.2875        S",
            "text/html": "<div>\n<style scoped>\n    .dataframe tbody tr th:only-of-type {\n        vertical-align: middle;\n    }\n\n    .dataframe tbody tr th {\n        vertical-align: top;\n    }\n\n    .dataframe thead th {\n        text-align: right;\n    }\n</style>\n<table border=\"1\" class=\"dataframe\">\n  <thead>\n    <tr style=\"text-align: right;\">\n      <th></th>\n      <th>Pclass</th>\n      <th>Sex</th>\n      <th>Age</th>\n      <th>SibSp</th>\n      <th>Parch</th>\n      <th>Fare</th>\n      <th>Embarked</th>\n    </tr>\n  </thead>\n  <tbody>\n    <tr>\n      <th>0</th>\n      <td>3</td>\n      <td>male</td>\n      <td>34.5</td>\n      <td>0</td>\n      <td>0</td>\n      <td>7.8292</td>\n      <td>Q</td>\n    </tr>\n    <tr>\n      <th>1</th>\n      <td>3</td>\n      <td>female</td>\n      <td>47.0</td>\n      <td>1</td>\n      <td>0</td>\n      <td>7.0000</td>\n      <td>S</td>\n    </tr>\n    <tr>\n      <th>2</th>\n      <td>2</td>\n      <td>male</td>\n      <td>62.0</td>\n      <td>0</td>\n      <td>0</td>\n      <td>9.6875</td>\n      <td>Q</td>\n    </tr>\n    <tr>\n      <th>3</th>\n      <td>3</td>\n      <td>male</td>\n      <td>27.0</td>\n      <td>0</td>\n      <td>0</td>\n      <td>8.6625</td>\n      <td>S</td>\n    </tr>\n    <tr>\n      <th>4</th>\n      <td>3</td>\n      <td>female</td>\n      <td>22.0</td>\n      <td>1</td>\n      <td>1</td>\n      <td>12.2875</td>\n      <td>S</td>\n    </tr>\n  </tbody>\n</table>\n</div>"
          },
          "metadata": {}
        }
      ]
    },
    {
      "cell_type": "markdown",
      "source": [
        "# feature_construction"
      ],
      "metadata": {
        "id": "eR0sLae61nxR"
      }
    },
    {
      "cell_type": "code",
      "source": [
        "train_df['family']=train_df['SibSp']+train_df['Parch']\n",
        "test_df['family']=test_df['SibSp']+test_df['Parch']"
      ],
      "metadata": {
        "execution": {
          "iopub.status.busy": "2024-03-21T15:15:39.265062Z",
          "iopub.execute_input": "2024-03-21T15:15:39.266175Z",
          "iopub.status.idle": "2024-03-21T15:15:39.27438Z",
          "shell.execute_reply.started": "2024-03-21T15:15:39.266133Z",
          "shell.execute_reply": "2024-03-21T15:15:39.273117Z"
        },
        "trusted": true,
        "id": "dipYIEaH1nxS"
      },
      "execution_count": null,
      "outputs": []
    },
    {
      "cell_type": "code",
      "source": [
        "def convert(num):\n",
        "    if num>=2:\n",
        "        return 1\n",
        "    elif num>=5 and num < 2:\n",
        "        return 2\n",
        "    else:\n",
        "        return 3"
      ],
      "metadata": {
        "execution": {
          "iopub.status.busy": "2024-03-21T15:15:39.276422Z",
          "iopub.execute_input": "2024-03-21T15:15:39.276871Z",
          "iopub.status.idle": "2024-03-21T15:15:39.283724Z",
          "shell.execute_reply.started": "2024-03-21T15:15:39.276829Z",
          "shell.execute_reply": "2024-03-21T15:15:39.282646Z"
        },
        "trusted": true,
        "id": "pUFR14MC1nxT"
      },
      "execution_count": null,
      "outputs": []
    },
    {
      "cell_type": "code",
      "source": [
        "train_df['family']=train_df['family'].apply(convert)\n",
        "test_df['family']=test_df['family'].apply(convert)"
      ],
      "metadata": {
        "execution": {
          "iopub.status.busy": "2024-03-21T15:15:39.28518Z",
          "iopub.execute_input": "2024-03-21T15:15:39.285523Z",
          "iopub.status.idle": "2024-03-21T15:15:39.296717Z",
          "shell.execute_reply.started": "2024-03-21T15:15:39.28549Z",
          "shell.execute_reply": "2024-03-21T15:15:39.295746Z"
        },
        "trusted": true,
        "id": "953gFY0i1nxT"
      },
      "execution_count": null,
      "outputs": []
    },
    {
      "cell_type": "markdown",
      "source": [
        "# check null values in data set"
      ],
      "metadata": {
        "id": "KJUcYCZX1nxU"
      }
    },
    {
      "cell_type": "code",
      "source": [
        "train_df.isnull().sum()"
      ],
      "metadata": {
        "execution": {
          "iopub.status.busy": "2024-03-21T15:15:39.298064Z",
          "iopub.execute_input": "2024-03-21T15:15:39.298581Z",
          "iopub.status.idle": "2024-03-21T15:15:39.3114Z",
          "shell.execute_reply.started": "2024-03-21T15:15:39.298544Z",
          "shell.execute_reply": "2024-03-21T15:15:39.310463Z"
        },
        "trusted": true,
        "id": "TS7CL6d71nxU",
        "outputId": "62f8da53-f2b2-4d1e-ce82-cc9c76f887c9"
      },
      "execution_count": null,
      "outputs": [
        {
          "execution_count": 331,
          "output_type": "execute_result",
          "data": {
            "text/plain": "Survived      0\nPclass        0\nSex           0\nAge         177\nSibSp         0\nParch         0\nFare          0\nEmbarked      2\nfamily        0\ndtype: int64"
          },
          "metadata": {}
        }
      ]
    },
    {
      "cell_type": "code",
      "source": [
        "test_df.isnull().sum()"
      ],
      "metadata": {
        "execution": {
          "iopub.status.busy": "2024-03-21T15:15:39.31301Z",
          "iopub.execute_input": "2024-03-21T15:15:39.313698Z",
          "iopub.status.idle": "2024-03-21T15:15:39.325135Z",
          "shell.execute_reply.started": "2024-03-21T15:15:39.313635Z",
          "shell.execute_reply": "2024-03-21T15:15:39.323028Z"
        },
        "trusted": true,
        "id": "GGdb6CX81nxU",
        "outputId": "2e61c6e8-6647-4377-88e7-6648e7568842"
      },
      "execution_count": null,
      "outputs": [
        {
          "execution_count": 332,
          "output_type": "execute_result",
          "data": {
            "text/plain": "Pclass       0\nSex          0\nAge         86\nSibSp        0\nParch        0\nFare         1\nEmbarked     0\nfamily       0\ndtype: int64"
          },
          "metadata": {}
        }
      ]
    },
    {
      "cell_type": "markdown",
      "source": [
        "# Fill the null valu"
      ],
      "metadata": {
        "id": "3oMivErL1nxV"
      }
    },
    {
      "cell_type": "code",
      "source": [
        "train_df['Age']=train_df['Age'].fillna(train_df['Age'].mean())\n",
        "train_df['Embarked']=train_df['Embarked'].fillna(train_df['Embarked'].mode())\n",
        "test_df['Age']=test_df['Age'].fillna(test_df['Age'].mean())\n",
        "test_df['Fare']=test_df['Fare'].fillna(test_df['Fare'].mean())\n"
      ],
      "metadata": {
        "execution": {
          "iopub.status.busy": "2024-03-21T15:15:39.326439Z",
          "iopub.execute_input": "2024-03-21T15:15:39.327468Z",
          "iopub.status.idle": "2024-03-21T15:15:39.341649Z",
          "shell.execute_reply.started": "2024-03-21T15:15:39.327425Z",
          "shell.execute_reply": "2024-03-21T15:15:39.34011Z"
        },
        "trusted": true,
        "id": "5YlZg0Ax1nxV"
      },
      "execution_count": null,
      "outputs": []
    },
    {
      "cell_type": "markdown",
      "source": [
        "# apply EDA"
      ],
      "metadata": {
        "id": "ZUqnjBO81nxV"
      }
    },
    {
      "cell_type": "code",
      "source": [
        "train_df['Sex'].value_counts().plot(kind='bar')"
      ],
      "metadata": {
        "execution": {
          "iopub.status.busy": "2024-03-21T15:15:39.347185Z",
          "iopub.execute_input": "2024-03-21T15:15:39.347593Z",
          "iopub.status.idle": "2024-03-21T15:15:39.569108Z",
          "shell.execute_reply.started": "2024-03-21T15:15:39.347561Z",
          "shell.execute_reply": "2024-03-21T15:15:39.567786Z"
        },
        "trusted": true,
        "id": "z8tJWpoq1nxW",
        "outputId": "69d985b9-a688-4f59-e804-6651c9c22516"
      },
      "execution_count": null,
      "outputs": [
        {
          "execution_count": 334,
          "output_type": "execute_result",
          "data": {
            "text/plain": "<Axes: xlabel='Sex'>"
          },
          "metadata": {}
        },
        {
          "output_type": "display_data",
          "data": {
            "text/plain": "<Figure size 640x480 with 1 Axes>",
            "image/png": "[encoded data removed]"
          },
          "metadata": {}
        }
      ]
    },
    {
      "cell_type": "code",
      "source": [
        "test_df['Sex'].value_counts().plot(kind='bar')"
      ],
      "metadata": {
        "execution": {
          "iopub.status.busy": "2024-03-21T15:15:39.570324Z",
          "iopub.execute_input": "2024-03-21T15:15:39.570633Z",
          "iopub.status.idle": "2024-03-21T15:15:39.77796Z",
          "shell.execute_reply.started": "2024-03-21T15:15:39.570606Z",
          "shell.execute_reply": "2024-03-21T15:15:39.777084Z"
        },
        "trusted": true,
        "id": "HQi80l0R1nxW",
        "outputId": "0d995932-301d-47b1-c257-20e3cc66daef"
      },
      "execution_count": null,
      "outputs": [
        {
          "execution_count": 335,
          "output_type": "execute_result",
          "data": {
            "text/plain": "<Axes: xlabel='Sex'>"
          },
          "metadata": {}
        },
        {
          "output_type": "display_data",
          "data": {
            "text/plain": "<Figure size 640x480 with 1 Axes>",
            "image/png": "[encoded data removed]"
          },
          "metadata": {}
        }
      ]
    },
    {
      "cell_type": "code",
      "source": [
        "train_df['Embarked'].value_counts().plot(kind='bar')"
      ],
      "metadata": {
        "execution": {
          "iopub.status.busy": "2024-03-21T15:15:39.779284Z",
          "iopub.execute_input": "2024-03-21T15:15:39.779812Z",
          "iopub.status.idle": "2024-03-21T15:15:39.989184Z",
          "shell.execute_reply.started": "2024-03-21T15:15:39.77978Z",
          "shell.execute_reply": "2024-03-21T15:15:39.988178Z"
        },
        "trusted": true,
        "id": "xK1p-40h1nxW",
        "outputId": "ee94a283-1189-43bb-bf03-1866857ff21c"
      },
      "execution_count": null,
      "outputs": [
        {
          "execution_count": 336,
          "output_type": "execute_result",
          "data": {
            "text/plain": "<Axes: xlabel='Embarked'>"
          },
          "metadata": {}
        },
        {
          "output_type": "display_data",
          "data": {
            "text/plain": "<Figure size 640x480 with 1 Axes>",
            "image/png": "[encoded data removed]"
          },
          "metadata": {}
        }
      ]
    },
    {
      "cell_type": "code",
      "source": [
        "test_df['Embarked'].value_counts().plot(kind='bar')"
      ],
      "metadata": {
        "execution": {
          "iopub.status.busy": "2024-03-21T15:15:39.990524Z",
          "iopub.execute_input": "2024-03-21T15:15:39.990842Z",
          "iopub.status.idle": "2024-03-21T15:15:40.196905Z",
          "shell.execute_reply.started": "2024-03-21T15:15:39.990815Z",
          "shell.execute_reply": "2024-03-21T15:15:40.195798Z"
        },
        "trusted": true,
        "id": "IAs2VCot1nxX",
        "outputId": "a7046c6e-7f8d-45ad-f90d-ff04e8b85107"
      },
      "execution_count": null,
      "outputs": [
        {
          "execution_count": 337,
          "output_type": "execute_result",
          "data": {
            "text/plain": "<Axes: xlabel='Embarked'>"
          },
          "metadata": {}
        },
        {
          "output_type": "display_data",
          "data": {
            "text/plain": "<Figure size 640x480 with 1 Axes>",
            "image/png": "[encoded data removed]"
          },
          "metadata": {}
        }
      ]
    },
    {
      "cell_type": "code",
      "source": [
        "train_df['Age'].plot(kind='kde')"
      ],
      "metadata": {
        "execution": {
          "iopub.status.busy": "2024-03-21T15:15:40.197997Z",
          "iopub.execute_input": "2024-03-21T15:15:40.198315Z",
          "iopub.status.idle": "2024-03-21T15:15:40.51761Z",
          "shell.execute_reply.started": "2024-03-21T15:15:40.198287Z",
          "shell.execute_reply": "2024-03-21T15:15:40.516755Z"
        },
        "trusted": true,
        "id": "2ENJFg-f1nxX",
        "outputId": "30ba334f-5cbe-469e-87ed-bfc6674b37a5"
      },
      "execution_count": null,
      "outputs": [
        {
          "execution_count": 338,
          "output_type": "execute_result",
          "data": {
            "text/plain": "<Axes: ylabel='Density'>"
          },
          "metadata": {}
        },
        {
          "output_type": "display_data",
          "data": {
            "text/plain": "<Figure size 640x480 with 1 Axes>",
            "image/png": "[encoded data removed]"
          },
          "metadata": {}
        }
      ]
    },
    {
      "cell_type": "code",
      "source": [
        "test_df['Age'].plot(kind='kde')"
      ],
      "metadata": {
        "execution": {
          "iopub.status.busy": "2024-03-21T15:15:40.518691Z",
          "iopub.execute_input": "2024-03-21T15:15:40.519498Z",
          "iopub.status.idle": "2024-03-21T15:15:40.831307Z",
          "shell.execute_reply.started": "2024-03-21T15:15:40.519468Z",
          "shell.execute_reply": "2024-03-21T15:15:40.830082Z"
        },
        "trusted": true,
        "id": "Lf0iUJPy1nxX",
        "outputId": "2ea0f24f-36d2-41b3-c117-5f900a6d1a44"
      },
      "execution_count": null,
      "outputs": [
        {
          "execution_count": 339,
          "output_type": "execute_result",
          "data": {
            "text/plain": "<Axes: ylabel='Density'>"
          },
          "metadata": {}
        },
        {
          "output_type": "display_data",
          "data": {
            "text/plain": "<Figure size 640x480 with 1 Axes>",
            "image/png": "[encoded data removed]"
          },
          "metadata": {}
        }
      ]
    },
    {
      "cell_type": "code",
      "source": [
        "train_df['Fare'].plot(kind='kde')"
      ],
      "metadata": {
        "execution": {
          "iopub.status.busy": "2024-03-21T15:15:40.832971Z",
          "iopub.execute_input": "2024-03-21T15:15:40.833458Z",
          "iopub.status.idle": "2024-03-21T15:15:41.120968Z",
          "shell.execute_reply.started": "2024-03-21T15:15:40.833425Z",
          "shell.execute_reply": "2024-03-21T15:15:41.119711Z"
        },
        "trusted": true,
        "id": "bqeDdTGk1nxY",
        "outputId": "75ede120-5552-4625-a58b-17bf7d70a75d"
      },
      "execution_count": null,
      "outputs": [
        {
          "execution_count": 340,
          "output_type": "execute_result",
          "data": {
            "text/plain": "<Axes: ylabel='Density'>"
          },
          "metadata": {}
        },
        {
          "output_type": "display_data",
          "data": {
            "text/plain": "<Figure size 640x480 with 1 Axes>",
            "image/png": "[encoded data removed]"
          },
          "metadata": {}
        }
      ]
    },
    {
      "cell_type": "code",
      "source": [
        "test_df['Fare'].plot(kind='kde')"
      ],
      "metadata": {
        "execution": {
          "iopub.status.busy": "2024-03-21T15:15:41.122296Z",
          "iopub.execute_input": "2024-03-21T15:15:41.123139Z",
          "iopub.status.idle": "2024-03-21T15:15:41.432146Z",
          "shell.execute_reply.started": "2024-03-21T15:15:41.123107Z",
          "shell.execute_reply": "2024-03-21T15:15:41.430778Z"
        },
        "trusted": true,
        "id": "1hEcA__o1nxY",
        "outputId": "d0b20b9a-44c9-4ac4-c86c-56d69961c856"
      },
      "execution_count": null,
      "outputs": [
        {
          "execution_count": 341,
          "output_type": "execute_result",
          "data": {
            "text/plain": "<Axes: ylabel='Density'>"
          },
          "metadata": {}
        },
        {
          "output_type": "display_data",
          "data": {
            "text/plain": "<Figure size 640x480 with 1 Axes>",
            "image/png": "[encoded data removed]"
          },
          "metadata": {}
        }
      ]
    },
    {
      "cell_type": "markdown",
      "source": [
        "# handiling categorical data\n"
      ],
      "metadata": {
        "id": "Mkko_Tpn1nxY"
      }
    },
    {
      "cell_type": "code",
      "source": [
        "train_df=pd.get_dummies(train_df,columns=['Sex','Embarked'],drop_first=True)\n",
        "test_df=pd.get_dummies(test_df,columns=['Sex','Embarked'],drop_first=True)"
      ],
      "metadata": {
        "execution": {
          "iopub.status.busy": "2024-03-21T15:15:41.43333Z",
          "iopub.execute_input": "2024-03-21T15:15:41.433632Z",
          "iopub.status.idle": "2024-03-21T15:15:41.447902Z",
          "shell.execute_reply.started": "2024-03-21T15:15:41.433606Z",
          "shell.execute_reply": "2024-03-21T15:15:41.44642Z"
        },
        "trusted": true,
        "id": "5Z8ABN6I1nxZ"
      },
      "execution_count": null,
      "outputs": []
    },
    {
      "cell_type": "markdown",
      "source": [
        "# Outlier Detection"
      ],
      "metadata": {
        "id": "eH1EC2Tv1nxZ"
      }
    },
    {
      "cell_type": "code",
      "source": [
        "train_df['Age'].plot(kind='box')"
      ],
      "metadata": {
        "execution": {
          "iopub.status.busy": "2024-03-21T15:15:41.449267Z",
          "iopub.execute_input": "2024-03-21T15:15:41.449564Z",
          "iopub.status.idle": "2024-03-21T15:15:41.663296Z",
          "shell.execute_reply.started": "2024-03-21T15:15:41.449538Z",
          "shell.execute_reply": "2024-03-21T15:15:41.661839Z"
        },
        "trusted": true,
        "id": "2fhIryU81nxZ",
        "outputId": "e6b2cf6a-c99a-45f5-bf8b-001c12744098"
      },
      "execution_count": null,
      "outputs": [
        {
          "execution_count": 343,
          "output_type": "execute_result",
          "data": {
            "text/plain": "<Axes: >"
          },
          "metadata": {}
        },
        {
          "output_type": "display_data",
          "data": {
            "text/plain": "<Figure size 640x480 with 1 Axes>",
            "image/png": "[encoded data removed]"
          },
          "metadata": {}
        }
      ]
    },
    {
      "cell_type": "code",
      "source": [
        "train_df['Fare'].plot(kind='box')"
      ],
      "metadata": {
        "execution": {
          "iopub.status.busy": "2024-03-21T15:15:41.66478Z",
          "iopub.execute_input": "2024-03-21T15:15:41.665126Z",
          "iopub.status.idle": "2024-03-21T15:15:41.876934Z",
          "shell.execute_reply.started": "2024-03-21T15:15:41.665097Z",
          "shell.execute_reply": "2024-03-21T15:15:41.875701Z"
        },
        "trusted": true,
        "id": "MBruhNjQ1nxa",
        "outputId": "1bf0c49c-54cc-4d58-bf95-9f2b3961026c"
      },
      "execution_count": null,
      "outputs": [
        {
          "execution_count": 344,
          "output_type": "execute_result",
          "data": {
            "text/plain": "<Axes: >"
          },
          "metadata": {}
        },
        {
          "output_type": "display_data",
          "data": {
            "text/plain": "<Figure size 640x480 with 1 Axes>",
            "image/png": "[encoded data removed]"
          },
          "metadata": {}
        }
      ]
    },
    {
      "cell_type": "code",
      "source": [
        "test_df['Age'].plot(kind='box')"
      ],
      "metadata": {
        "execution": {
          "iopub.status.busy": "2024-03-21T15:15:41.878958Z",
          "iopub.execute_input": "2024-03-21T15:15:41.879301Z",
          "iopub.status.idle": "2024-03-21T15:15:42.094148Z",
          "shell.execute_reply.started": "2024-03-21T15:15:41.879273Z",
          "shell.execute_reply": "2024-03-21T15:15:42.09304Z"
        },
        "trusted": true,
        "id": "AKjqmuGs1nxa",
        "outputId": "3f80d09a-844c-4c68-dfc6-a8bfd4952821"
      },
      "execution_count": null,
      "outputs": [
        {
          "execution_count": 345,
          "output_type": "execute_result",
          "data": {
            "text/plain": "<Axes: >"
          },
          "metadata": {}
        },
        {
          "output_type": "display_data",
          "data": {
            "text/plain": "<Figure size 640x480 with 1 Axes>",
            "image/png": "[encoded data removed]"
          },
          "metadata": {}
        }
      ]
    },
    {
      "cell_type": "code",
      "source": [
        "test_df['Fare'].plot(kind='box')"
      ],
      "metadata": {
        "execution": {
          "iopub.status.busy": "2024-03-21T15:15:42.096468Z",
          "iopub.execute_input": "2024-03-21T15:15:42.097583Z",
          "iopub.status.idle": "2024-03-21T15:15:42.299243Z",
          "shell.execute_reply.started": "2024-03-21T15:15:42.097546Z",
          "shell.execute_reply": "2024-03-21T15:15:42.297897Z"
        },
        "trusted": true,
        "id": "3BOta3CN1nxb",
        "outputId": "b1659c5e-df7f-45be-cb19-0b5180d8b42b"
      },
      "execution_count": null,
      "outputs": [
        {
          "execution_count": 346,
          "output_type": "execute_result",
          "data": {
            "text/plain": "<Axes: >"
          },
          "metadata": {}
        },
        {
          "output_type": "display_data",
          "data": {
            "text/plain": "<Figure size 640x480 with 1 Axes>",
            "image/png": "[encoded data removed]"
          },
          "metadata": {}
        }
      ]
    },
    {
      "cell_type": "markdown",
      "source": [
        "# remove outliers"
      ],
      "metadata": {
        "id": "0EaOVHuz1nxd"
      }
    },
    {
      "cell_type": "code",
      "source": [
        "quantile_25=train_df['Age'].quantile(0.25)\n",
        "quantile_75=train_df['Age'].quantile(0.75)\n",
        "iqr=quantile_75-quantile_25\n",
        "upper_limit=quantile_75+1.5*iqr\n",
        "lower_limit=quantile_25-1.5*iqr\n",
        "train_df['Age']=np.where(train_df['Age']>=upper_limit,upper_limit,\n",
        "        np.where(train_df['Age']<=lower_limit,lower_limit,train_df['Age']))"
      ],
      "metadata": {
        "execution": {
          "iopub.status.busy": "2024-03-21T15:15:42.300804Z",
          "iopub.execute_input": "2024-03-21T15:15:42.301557Z",
          "iopub.status.idle": "2024-03-21T15:15:42.312054Z",
          "shell.execute_reply.started": "2024-03-21T15:15:42.301513Z",
          "shell.execute_reply": "2024-03-21T15:15:42.310678Z"
        },
        "trusted": true,
        "id": "-tysWPoc1nxd"
      },
      "execution_count": null,
      "outputs": []
    },
    {
      "cell_type": "code",
      "source": [
        "quantile_25=train_df['Fare'].quantile(0.25)\n",
        "quantile_75=train_df['Fare'].quantile(0.75)\n",
        "iqr=quantile_75-quantile_25\n",
        "upper_limit=quantile_75+1.5*iqr\n",
        "lower_limit=quantile_25-1.5*iqr\n",
        "train_df['Fare']=np.where(train_df['Fare']>=upper_limit,upper_limit,\n",
        "        np.where(train_df['Fare']<=lower_limit,lower_limit,train_df['Fare']))"
      ],
      "metadata": {
        "execution": {
          "iopub.status.busy": "2024-03-21T15:15:42.313657Z",
          "iopub.execute_input": "2024-03-21T15:15:42.314097Z",
          "iopub.status.idle": "2024-03-21T15:15:42.32814Z",
          "shell.execute_reply.started": "2024-03-21T15:15:42.314066Z",
          "shell.execute_reply": "2024-03-21T15:15:42.326771Z"
        },
        "trusted": true,
        "id": "STYd9yMB1nxd"
      },
      "execution_count": null,
      "outputs": []
    },
    {
      "cell_type": "code",
      "source": [
        "quantile_25=test_df['Age'].quantile(0.25)\n",
        "quantile_75=test_df['Age'].quantile(0.75)\n",
        "iqr=quantile_75-quantile_25\n",
        "upper_limit=quantile_75+1.5*iqr\n",
        "lower_limit=quantile_25-1.5*iqr\n",
        "test_df['Age']=np.where(test_df['Age']>=upper_limit,upper_limit,\n",
        "        np.where(test_df['Age']<=lower_limit,lower_limit,test_df['Age']))"
      ],
      "metadata": {
        "execution": {
          "iopub.status.busy": "2024-03-21T15:15:42.329466Z",
          "iopub.execute_input": "2024-03-21T15:15:42.329836Z",
          "iopub.status.idle": "2024-03-21T15:15:42.342979Z",
          "shell.execute_reply.started": "2024-03-21T15:15:42.329802Z",
          "shell.execute_reply": "2024-03-21T15:15:42.341638Z"
        },
        "trusted": true,
        "id": "seRH0d2A1nxe"
      },
      "execution_count": null,
      "outputs": []
    },
    {
      "cell_type": "code",
      "source": [
        "quantile_25=test_df['Fare'].quantile(0.25)\n",
        "quantile_75=test_df['Fare'].quantile(0.75)\n",
        "iqr=quantile_75-quantile_25\n",
        "upper_limit=quantile_75+1.5*iqr\n",
        "lower_limit=quantile_25-1.5*iqr\n",
        "test_df['Fare']=np.where(test_df['Fare']>=upper_limit,upper_limit,\n",
        "        np.where(test_df['Fare']<=lower_limit,lower_limit,test_df['Fare']))"
      ],
      "metadata": {
        "execution": {
          "iopub.status.busy": "2024-03-21T15:15:42.344205Z",
          "iopub.execute_input": "2024-03-21T15:15:42.345171Z",
          "iopub.status.idle": "2024-03-21T15:15:42.358162Z",
          "shell.execute_reply.started": "2024-03-21T15:15:42.345134Z",
          "shell.execute_reply": "2024-03-21T15:15:42.356766Z"
        },
        "trusted": true,
        "id": "tvCSsjaq1nxe"
      },
      "execution_count": null,
      "outputs": []
    },
    {
      "cell_type": "code",
      "source": [
        "test_df['Age'].plot(kind='box')"
      ],
      "metadata": {
        "execution": {
          "iopub.status.busy": "2024-03-21T15:15:42.360116Z",
          "iopub.execute_input": "2024-03-21T15:15:42.360632Z",
          "iopub.status.idle": "2024-03-21T15:15:42.556223Z",
          "shell.execute_reply.started": "2024-03-21T15:15:42.360591Z",
          "shell.execute_reply": "2024-03-21T15:15:42.554994Z"
        },
        "trusted": true,
        "id": "JdiTsv8l1nxk",
        "outputId": "4f9feaa7-e8a5-41c9-d4f7-804e3e954eba"
      },
      "execution_count": null,
      "outputs": [
        {
          "execution_count": 351,
          "output_type": "execute_result",
          "data": {
            "text/plain": "<Axes: >"
          },
          "metadata": {}
        },
        {
          "output_type": "display_data",
          "data": {
            "text/plain": "<Figure size 640x480 with 1 Axes>",
            "image/png": "[encoded data removed]"
          },
          "metadata": {}
        }
      ]
    },
    {
      "cell_type": "code",
      "source": [],
      "metadata": {
        "id": "OvgJolPY1nxk"
      },
      "execution_count": null,
      "outputs": []
    },
    {
      "cell_type": "markdown",
      "source": [
        "# scaling"
      ],
      "metadata": {
        "id": "_wQl3qvP1nxl"
      }
    },
    {
      "cell_type": "code",
      "source": [
        "std=StandardScaler()"
      ],
      "metadata": {
        "execution": {
          "iopub.status.busy": "2024-03-21T15:15:42.557724Z",
          "iopub.execute_input": "2024-03-21T15:15:42.558034Z",
          "iopub.status.idle": "2024-03-21T15:15:42.564146Z",
          "shell.execute_reply.started": "2024-03-21T15:15:42.558009Z",
          "shell.execute_reply": "2024-03-21T15:15:42.562453Z"
        },
        "trusted": true,
        "id": "iMy-FEOf1nxl"
      },
      "execution_count": null,
      "outputs": []
    },
    {
      "cell_type": "code",
      "source": [
        "cols=['Age','Fare']\n",
        "train_df[cols]=std.fit_transform(train_df[cols])\n",
        "test_df[cols]=std.transform(test_df[cols])"
      ],
      "metadata": {
        "execution": {
          "iopub.status.busy": "2024-03-21T15:15:42.56554Z",
          "iopub.execute_input": "2024-03-21T15:15:42.565973Z",
          "iopub.status.idle": "2024-03-21T15:15:42.582913Z",
          "shell.execute_reply.started": "2024-03-21T15:15:42.56594Z",
          "shell.execute_reply": "2024-03-21T15:15:42.581741Z"
        },
        "trusted": true,
        "id": "y1sBYUs91nxl"
      },
      "execution_count": null,
      "outputs": []
    },
    {
      "cell_type": "code",
      "source": [
        "X=train_df.drop(columns=['Survived'])\n",
        "y=train_df['Survived']"
      ],
      "metadata": {
        "execution": {
          "iopub.status.busy": "2024-03-21T15:15:42.585093Z",
          "iopub.execute_input": "2024-03-21T15:15:42.585625Z",
          "iopub.status.idle": "2024-03-21T15:15:42.596233Z",
          "shell.execute_reply.started": "2024-03-21T15:15:42.585551Z",
          "shell.execute_reply": "2024-03-21T15:15:42.594956Z"
        },
        "trusted": true,
        "id": "taFgLRDk1nxl"
      },
      "execution_count": null,
      "outputs": []
    },
    {
      "cell_type": "code",
      "source": [
        "dt=DecisionTreeClassifier()\n",
        "dt.fit(X.values,y.values)\n",
        "y_pred=dt.predict(test_df.values)"
      ],
      "metadata": {
        "execution": {
          "iopub.status.busy": "2024-03-21T15:15:42.59718Z",
          "iopub.execute_input": "2024-03-21T15:15:42.597502Z",
          "iopub.status.idle": "2024-03-21T15:15:42.61468Z",
          "shell.execute_reply.started": "2024-03-21T15:15:42.597476Z",
          "shell.execute_reply": "2024-03-21T15:15:42.613422Z"
        },
        "trusted": true,
        "id": "hh3p0YoO1nxm"
      },
      "execution_count": null,
      "outputs": []
    },
    {
      "cell_type": "code",
      "source": [
        "import pickle\n",
        "\n",
        "file_name='model_final.pkl'\n",
        "pickle.dump(dt,open(file_name,'wb'))"
      ],
      "metadata": {
        "execution": {
          "iopub.status.busy": "2024-03-21T15:15:42.61616Z",
          "iopub.execute_input": "2024-03-21T15:15:42.616612Z",
          "iopub.status.idle": "2024-03-21T15:15:42.624076Z",
          "shell.execute_reply.started": "2024-03-21T15:15:42.61658Z",
          "shell.execute_reply": "2024-03-21T15:15:42.622832Z"
        },
        "trusted": true,
        "id": "VOdA3VCW1nxm"
      },
      "execution_count": null,
      "outputs": []
    },
    {
      "cell_type": "code",
      "source": [
        "pred=pd.DataFrame(y_pred)\n",
        "submisson=pd.read_csv('/kaggle/input/titanic/gender_submission.csv')\n",
        "dataset=pd.concat([submisson['PassengerId'],pred],axis=1)\n",
        "dataset.columns=['PassengerId','Survived']\n",
        "dataset.to_csv('titan_1_sub.csv')"
      ],
      "metadata": {
        "execution": {
          "iopub.status.busy": "2024-03-21T15:15:42.62505Z",
          "iopub.execute_input": "2024-03-21T15:15:42.625359Z",
          "iopub.status.idle": "2024-03-21T15:15:42.63993Z",
          "shell.execute_reply.started": "2024-03-21T15:15:42.625334Z",
          "shell.execute_reply": "2024-03-21T15:15:42.639032Z"
        },
        "trusted": true,
        "id": "7FWtjRNM1nxm"
      },
      "execution_count": null,
      "outputs": []
    },
    {
      "cell_type": "code",
      "source": [
        "dt=DecisionTreeClassifier(max_depth=5)\n",
        "dt.fit(X.values,y.values)\n",
        "y_pred=dt.predict(test_df.values)"
      ],
      "metadata": {
        "execution": {
          "iopub.status.busy": "2024-03-21T15:15:42.640916Z",
          "iopub.execute_input": "2024-03-21T15:15:42.641234Z",
          "iopub.status.idle": "2024-03-21T15:15:42.65056Z",
          "shell.execute_reply.started": "2024-03-21T15:15:42.641208Z",
          "shell.execute_reply": "2024-03-21T15:15:42.649538Z"
        },
        "trusted": true,
        "id": "nVfaoGZ81nxm"
      },
      "execution_count": null,
      "outputs": []
    },
    {
      "cell_type": "code",
      "source": [
        "sv=SVC(kernel='linear')\n",
        "sv.fit(X.values,y.values)\n",
        "y_pred=sv.predict(test_df.values)"
      ],
      "metadata": {
        "execution": {
          "iopub.status.busy": "2024-03-21T15:15:42.651521Z",
          "iopub.execute_input": "2024-03-21T15:15:42.651861Z",
          "iopub.status.idle": "2024-03-21T15:15:42.695368Z",
          "shell.execute_reply.started": "2024-03-21T15:15:42.651833Z",
          "shell.execute_reply": "2024-03-21T15:15:42.694154Z"
        },
        "trusted": true,
        "id": "ymd3YtW-1nxn"
      },
      "execution_count": null,
      "outputs": []
    },
    {
      "cell_type": "code",
      "source": [
        "pred=pd.DataFrame(y_pred)\n",
        "submisson=pd.read_csv('/kaggle/input/titanic/gender_submission.csv')\n",
        "dataset=pd.concat([submisson['PassengerId'],pred],axis=1)\n",
        "dataset.columns=['PassengerId','Survived']\n",
        "dataset.to_csv('titan_5_sub.csv')"
      ],
      "metadata": {
        "execution": {
          "iopub.status.busy": "2024-03-21T15:18:12.439457Z",
          "iopub.execute_input": "2024-03-21T15:18:12.439888Z",
          "iopub.status.idle": "2024-03-21T15:18:12.451323Z",
          "shell.execute_reply.started": "2024-03-21T15:18:12.439854Z",
          "shell.execute_reply": "2024-03-21T15:18:12.449908Z"
        },
        "trusted": true,
        "id": "mTOnIzhB1nxn"
      },
      "execution_count": null,
      "outputs": []
    },
    {
      "cell_type": "code",
      "source": [
        "y_test=dataset['Survived'].values"
      ],
      "metadata": {
        "execution": {
          "iopub.status.busy": "2024-03-21T15:18:15.523323Z",
          "iopub.execute_input": "2024-03-21T15:18:15.523825Z",
          "iopub.status.idle": "2024-03-21T15:18:15.528532Z",
          "shell.execute_reply.started": "2024-03-21T15:18:15.523788Z",
          "shell.execute_reply": "2024-03-21T15:18:15.52754Z"
        },
        "trusted": true,
        "id": "kmXkXh181nxn"
      },
      "execution_count": null,
      "outputs": []
    },
    {
      "cell_type": "code",
      "source": [
        "accuracy_score(y_test,y_pred)"
      ],
      "metadata": {
        "execution": {
          "iopub.status.busy": "2024-03-21T15:18:18.693172Z",
          "iopub.execute_input": "2024-03-21T15:18:18.693799Z",
          "iopub.status.idle": "2024-03-21T15:18:18.7016Z",
          "shell.execute_reply.started": "2024-03-21T15:18:18.693758Z",
          "shell.execute_reply": "2024-03-21T15:18:18.700461Z"
        },
        "trusted": true,
        "id": "WifGGzgK1nxn",
        "outputId": "4669c48f-ea96-4a26-caa5-cbf2b843f1e7"
      },
      "execution_count": null,
      "outputs": [
        {
          "execution_count": 372,
          "output_type": "execute_result",
          "data": {
            "text/plain": "1.0"
          },
          "metadata": {}
        }
      ]
    }
  ]
}